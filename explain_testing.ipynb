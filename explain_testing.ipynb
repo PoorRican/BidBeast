{
 "cells": [
  {
   "cell_type": "code",
   "execution_count": 8,
   "outputs": [],
   "source": [
    "from langchain.prompts import PromptTemplate\n",
    "from langchain.chains import LLMChain\n",
    "from langchain.chat_models import ChatOpenAI"
   ],
   "metadata": {
    "collapsed": false,
    "ExecuteTime": {
     "end_time": "2023-09-27T01:02:59.176074Z",
     "start_time": "2023-09-27T01:02:59.166311Z"
    }
   },
   "id": "944e829c58124f85"
  },
  {
   "cell_type": "code",
   "execution_count": 44,
   "outputs": [],
   "source": [
    "from langchain.output_parsers import CommaSeparatedListOutputParser\n",
    "output_parser = CommaSeparatedListOutputParser()\n",
    "format_instructions = output_parser.get_format_instructions()"
   ],
   "metadata": {
    "collapsed": false,
    "ExecuteTime": {
     "end_time": "2023-09-27T01:36:52.765848Z",
     "start_time": "2023-09-27T01:36:52.754612Z"
    }
   },
   "id": "8b7931a2c19f8111"
  },
  {
   "cell_type": "code",
   "execution_count": 97,
   "id": "initial_id",
   "metadata": {
    "collapsed": true,
    "ExecuteTime": {
     "end_time": "2023-09-27T01:53:09.773519Z",
     "start_time": "2023-09-27T01:53:09.764130Z"
    }
   },
   "outputs": [],
   "source": [
    "prompt = PromptTemplate.from_template(\"\"\"\n",
    "You are a consultant for a freelance contractor. You have the ability to infer the tasks and skills required for a given job even if the description given by the client is ambiguous or does not use the correct terminology or skips over important parts.\n",
    "\n",
    "Title:\n",
    "{title}\n",
    "\n",
    "Description:\n",
    "{description}\n",
    "\n",
    "The reasons I {like} this job are because:\n",
    "{reasons}\n",
    "\n",
    "Using provided reasons and the given job description, state my preferences for future jobs to bid on as a comma-separated list in the first person.\n",
    "\n",
    "Eg: `I like jobs that work with python, I like jobs that have a definite endpoint` \n",
    "Eg: `I do not like jobs that are unclear, I do not like jobs that work with C#`\n",
    "\"\"\")\n",
    "\n",
    "chain = LLMChain(llm=ChatOpenAI(temperature=.2, model_name=\"gpt-3.5-turbo\"),\n",
    "                output_key='explanation',\n",
    "                prompt=prompt,\n",
    "                output_parser=output_parser)"
   ]
  },
  {
   "cell_type": "code",
   "execution_count": 98,
   "outputs": [],
   "source": [
    "from models import Like\n"
   ],
   "metadata": {
    "collapsed": false,
    "ExecuteTime": {
     "end_time": "2023-09-27T01:53:09.984873Z",
     "start_time": "2023-09-27T01:53:09.971893Z"
    }
   },
   "id": "ce83628158baa37"
  },
  {
   "cell_type": "code",
   "execution_count": 99,
   "outputs": [],
   "source": [
    "title = 'Web Scraping for Price Analysis '\n",
    "description = \"\"\"I am a consultant working on a pricing analysis project. I would like to hire a developer to write a script that would do the following:   \n",
    "  \n",
    "\n",
    "1. Take a defined list of product part number SKUs. The number of SKUs will be a minimum of 200.   \n",
    "\n",
    "2. Find those SKUs and their prices at websites I provide. I am thinking a minimum of 5 and a maximum of 10 online sources  \n",
    "\n",
    "3. Scrape prices  \n",
    "\n",
    "4. Record the SKUs and prices into a CSV file  \n",
    "\n",
    "5. Write the program in such a way that I can run the program at any time in the future and produce the same CSV File.   \n",
    "  \n",
    "\n",
    "Once a programmer is chosen, I would provide a scope of work outlining the specific SKUs and specific websites .   \n",
    "  \n",
    "**Hourly Range**: $25.00-$50.00\n",
    "\n",
    "  \n",
    "**Posted On**: September 13, 2023 21:06 UTC  \n",
    "**Category**: Data Extraction  \n",
    "**Skills**:Data Extraction, Web Scraping, Data Scraping \n",
    "  \n",
    "**Location Requirement**: Only freelancers located in the United States may apply.\n",
    "  \n",
    "**Country**: United States\n",
    "  \n",
    "[click to apply](https://www.upwork.com/jobs/Web-Scraping-for-Price-Analysis_%7E01c45cf64aa35bce93?source=rss)\"\"\"\n",
    "like = \"would like to bid\"\n",
    "reasons = [\n",
    "  \"experience with building web scrapers\",\n",
    "  \"simple straightforward requirements\"\n",
    "]"
   ],
   "metadata": {
    "collapsed": false,
    "ExecuteTime": {
     "end_time": "2023-09-27T01:53:10.321617Z",
     "start_time": "2023-09-27T01:53:10.307746Z"
    }
   },
   "id": "753af74f4840b817"
  },
  {
   "cell_type": "code",
   "execution_count": 100,
   "outputs": [
    {
     "data": {
      "text/plain": "['I like jobs that involve web scraping',\n 'I like jobs that have clear requirements',\n 'I like jobs that involve data extraction',\n 'I like jobs that require building scripts',\n 'I like jobs that involve working with CSV files.']"
     },
     "execution_count": 100,
     "metadata": {},
     "output_type": "execute_result"
    }
   ],
   "source": [
    "chain.run({'title': title, 'description': description, 'like': like, 'reasons': reasons})"
   ],
   "metadata": {
    "collapsed": false,
    "ExecuteTime": {
     "end_time": "2023-09-27T01:53:16.988291Z",
     "start_time": "2023-09-27T01:53:11.301766Z"
    }
   },
   "id": "8630bd9d7dcef209"
  },
  {
   "cell_type": "code",
   "execution_count": null,
   "outputs": [],
   "source": [],
   "metadata": {
    "collapsed": false
   },
   "id": "79561961a84ecaed"
  }
 ],
 "metadata": {
  "kernelspec": {
   "display_name": "Python 3",
   "language": "python",
   "name": "python3"
  },
  "language_info": {
   "codemirror_mode": {
    "name": "ipython",
    "version": 2
   },
   "file_extension": ".py",
   "mimetype": "text/x-python",
   "name": "python",
   "nbconvert_exporter": "python",
   "pygments_lexer": "ipython2",
   "version": "2.7.6"
  }
 },
 "nbformat": 4,
 "nbformat_minor": 5
}
