{
 "cells": [
  {
   "cell_type": "code",
   "execution_count": 4,
   "id": "initial_id",
   "metadata": {
    "collapsed": true,
    "ExecuteTime": {
     "end_time": "2023-10-09T21:18:48.218170Z",
     "start_time": "2023-10-09T21:18:48.209426Z"
    }
   },
   "outputs": [],
   "source": [
    "from functors.NewJobsHandler import NewJobsHandler\n",
    "from models import Job"
   ]
  },
  {
   "cell_type": "code",
   "execution_count": 1,
   "outputs": [],
   "source": [],
   "metadata": {
    "collapsed": false,
    "ExecuteTime": {
     "end_time": "2023-10-09T21:18:06.541628Z",
     "start_time": "2023-10-09T21:18:06.540808Z"
    }
   },
   "id": "6f700beef0382d4"
  },
  {
   "cell_type": "code",
   "execution_count": 3,
   "outputs": [],
   "source": [
    "handler = NewJobsHandler()"
   ],
   "metadata": {
    "collapsed": false,
    "ExecuteTime": {
     "end_time": "2023-10-09T21:18:26.786739Z",
     "start_time": "2023-10-09T21:18:26.777543Z"
    }
   },
   "id": "252a84c74b16d01"
  },
  {
   "cell_type": "code",
   "execution_count": 5,
   "outputs": [],
   "source": [
    "job = Job('test title', 'description', 'link')"
   ],
   "metadata": {
    "collapsed": false,
    "ExecuteTime": {
     "end_time": "2023-10-09T21:19:06.700169Z",
     "start_time": "2023-10-09T21:19:06.675432Z"
    }
   },
   "id": "7aae86135ddf28ec"
  },
  {
   "cell_type": "code",
   "execution_count": 7,
   "outputs": [
    {
     "name": "stdout",
     "output_type": "stream",
     "text": [
      "Found 1 new jobs\n",
      "Generating summaries for 1 jobs...\n",
      "Evaluating 1 new jobs...\n"
     ]
    },
    {
     "name": "stderr",
     "output_type": "stream",
     "text": [
      "/Users/swe/repos/BidBeast/venv/lib/python3.11/site-packages/vecs/collection.py:445: UserWarning: Query does not have a covering index for IndexMeasure.cosine_distance. See Collection.create_index\n",
      "  warnings.warn(\n",
      "2023-10-09 14:19:39,393:INFO - HTTP Request: GET https://jplqmkychayqkkrejklu.supabase.co/rest/v1/potential_jobs?select=summary%2C%20title%2C%20pros%2C%20cons%2C%20viability&id=in.%280e5c692c-9608-4b7f-9ad9-b1932a2765b6%2Cff35e626-1424-439b-ad69-55342c1c99a3%2C6d184eae-de29-409b-8b02-6754cbc91ed9%2C821e9509-6be6-4ee9-a5c4-13d0475c95c6%2C5c695add-4771-4d94-85a6-bd075d006375%2C0d71c6cc-74ae-4b84-b364-00c77fc728ca%2C57301251-fa46-4b59-b815-7f2b63e2b764%29 \"HTTP/1.1 200 OK\"\n",
      "/Users/swe/repos/BidBeast/venv/lib/python3.11/site-packages/langchain/llms/openai.py:202: UserWarning: You are trying to use a chat model. This way of initializing it is no longer supported. Instead, please use: `from langchain.chat_models import ChatOpenAI`\n",
      "  warnings.warn(\n",
      "/Users/swe/repos/BidBeast/venv/lib/python3.11/site-packages/langchain/llms/openai.py:790: UserWarning: You are trying to use a chat model. This way of initializing it is no longer supported. Instead, please use: `from langchain.chat_models import ChatOpenAI`\n",
      "  warnings.warn(\n",
      "2023-10-09 14:19:45,416:INFO - message='OpenAI API response' path=https://api.openai.com/v1/chat/completions processing_ms=1587 request_id=17ede6f8a50637b6c2eb947f0718651b response_code=200\n"
     ]
    },
    {
     "name": "stdout",
     "output_type": "stream",
     "text": [
      "Summaries complete!\n"
     ]
    },
    {
     "name": "stderr",
     "output_type": "stream",
     "text": [
      "2023-10-09 14:20:06,837:INFO - message='OpenAI API response' path=https://api.openai.com/v1/chat/completions processing_ms=23210 request_id=a6e80fb4cd8a9632bbdc0da5794062e4 response_code=200\n"
     ]
    },
    {
     "name": "stdout",
     "output_type": "stream",
     "text": [
      "Finished evaluating jobs\n"
     ]
    },
    {
     "name": "stderr",
     "output_type": "stream",
     "text": [
      "2023-10-09 14:20:11,041:INFO - HTTP Request: POST https://jplqmkychayqkkrejklu.supabase.co/rest/v1/potential_jobs \"HTTP/1.1 201 Created\"\n"
     ]
    }
   ],
   "source": [
    "await handler([job])"
   ],
   "metadata": {
    "collapsed": false,
    "ExecuteTime": {
     "end_time": "2023-10-09T21:20:11.064045Z",
     "start_time": "2023-10-09T21:19:29.196236Z"
    }
   },
   "id": "9f874b82b8961528"
  },
  {
   "cell_type": "code",
   "execution_count": 8,
   "outputs": [
    {
     "data": {
      "text/plain": "UUID('0e5c692c-9608-4b7f-9ad9-b1932a2765b6')"
     },
     "execution_count": 8,
     "metadata": {},
     "output_type": "execute_result"
    }
   ],
   "source": [
    "job.id"
   ],
   "metadata": {
    "collapsed": false,
    "ExecuteTime": {
     "end_time": "2023-10-09T21:20:16.968590Z",
     "start_time": "2023-10-09T21:20:16.956633Z"
    }
   },
   "id": "6da094082badb3f"
  },
  {
   "cell_type": "code",
   "execution_count": null,
   "outputs": [],
   "source": [],
   "metadata": {
    "collapsed": false
   },
   "id": "87ee432d6e3be5ed"
  }
 ],
 "metadata": {
  "kernelspec": {
   "display_name": "Python 3",
   "language": "python",
   "name": "python3"
  },
  "language_info": {
   "codemirror_mode": {
    "name": "ipython",
    "version": 2
   },
   "file_extension": ".py",
   "mimetype": "text/x-python",
   "name": "python",
   "nbconvert_exporter": "python",
   "pygments_lexer": "ipython2",
   "version": "2.7.6"
  }
 },
 "nbformat": 4,
 "nbformat_minor": 5
}
