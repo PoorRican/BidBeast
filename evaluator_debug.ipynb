{
 "cells": [
  {
   "cell_type": "code",
   "execution_count": 4,
   "id": "initial_id",
   "metadata": {
    "collapsed": true,
    "ExecuteTime": {
     "end_time": "2023-10-09T21:18:48.218170Z",
     "start_time": "2023-10-09T21:18:48.209426Z"
    }
   },
   "source": [
    "from functors.NewJobsHandler import NewJobsHandler\n",
    "from models import Job"
   ],
   "outputs": []
  },
  {
   "cell_type": "code",
   "execution_count": 1,
   "source": [],
   "metadata": {
    "collapsed": false,
    "ExecuteTime": {
     "end_time": "2023-10-09T21:18:06.541628Z",
     "start_time": "2023-10-09T21:18:06.540808Z"
    }
   },
   "id": "6f700beef0382d4",
   "outputs": []
  },
  {
   "cell_type": "code",
   "execution_count": 3,
   "source": [
    "handler = NewJobsHandler()"
   ],
   "metadata": {
    "collapsed": false,
    "ExecuteTime": {
     "end_time": "2023-10-09T21:18:26.786739Z",
     "start_time": "2023-10-09T21:18:26.777543Z"
    }
   },
   "id": "252a84c74b16d01",
   "outputs": []
  },
  {
   "cell_type": "code",
   "execution_count": 5,
   "source": [
    "job = Job('test title', 'description', 'link')"
   ],
   "metadata": {
    "collapsed": false,
    "ExecuteTime": {
     "end_time": "2023-10-09T21:19:06.700169Z",
     "start_time": "2023-10-09T21:19:06.675432Z"
    }
   },
   "id": "7aae86135ddf28ec",
   "outputs": []
  },
  {
   "cell_type": "code",
   "execution_count": 7,
   "source": [
    "await handler([job])"
   ],
   "metadata": {
    "collapsed": false,
    "ExecuteTime": {
     "end_time": "2023-10-09T21:20:11.064045Z",
     "start_time": "2023-10-09T21:19:29.196236Z"
    }
   },
   "id": "9f874b82b8961528",
   "outputs": []
  },
  {
   "cell_type": "code",
   "execution_count": 8,
   "source": [
    "job.id"
   ],
   "metadata": {
    "collapsed": false,
    "ExecuteTime": {
     "end_time": "2023-10-09T21:20:16.968590Z",
     "start_time": "2023-10-09T21:20:16.956633Z"
    }
   },
   "id": "6da094082badb3f",
   "outputs": []
  },
  {
   "cell_type": "code",
   "execution_count": null,
   "source": [],
   "metadata": {
    "collapsed": false
   },
   "id": "87ee432d6e3be5ed",
   "outputs": []
  }
 ],
 "metadata": {
  "kernelspec": {
   "display_name": "Python 3",
   "language": "python",
   "name": "python3"
  },
  "language_info": {
   "codemirror_mode": {
    "name": "ipython",
    "version": 2
   },
   "file_extension": ".py",
   "mimetype": "text/x-python",
   "name": "python",
   "nbconvert_exporter": "python",
   "pygments_lexer": "ipython2",
   "version": "2.7.6"
  }
 },
 "nbformat": 4,
 "nbformat_minor": 5
}
